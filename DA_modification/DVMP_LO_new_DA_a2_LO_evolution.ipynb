{
 "cells": [
  {
   "cell_type": "code",
   "execution_count": 1,
   "metadata": {},
   "outputs": [],
   "source": [
    "%load_ext autoreload\n",
    "%autoreload 2"
   ]
  },
  {
   "cell_type": "code",
   "execution_count": 2,
   "metadata": {},
   "outputs": [],
   "source": [
    "import copy, math\n",
    "import numpy as np\n",
    "import matplotlib\n",
    "import matplotlib.pyplot as plt"
   ]
  },
  {
   "cell_type": "code",
   "execution_count": 3,
   "metadata": {},
   "outputs": [],
   "source": [
    "from jacobi import propagate"
   ]
  },
  {
   "cell_type": "code",
   "execution_count": 4,
   "metadata": {},
   "outputs": [],
   "source": [
    "from scipy.optimize import curve_fit\n",
    "from matplotlib.ticker import ScalarFormatter"
   ]
  },
  {
   "cell_type": "code",
   "execution_count": 5,
   "metadata": {},
   "outputs": [
    {
     "name": "stdout",
     "output_type": "stream",
     "text": [
      "0.9.10\n"
     ]
    }
   ],
   "source": [
    "import gepard as g\n",
    "print(g.__version__)"
   ]
  },
  {
   "cell_type": "code",
   "execution_count": 6,
   "metadata": {},
   "outputs": [
    {
     "name": "stdout",
     "output_type": "stream",
     "text": [
      "/home/quantum/gepard/src/gepard/__init__.py\n"
     ]
    }
   ],
   "source": [
    "print(g.__file__)"
   ]
  },
  {
   "cell_type": "code",
   "execution_count": 7,
   "metadata": {},
   "outputs": [],
   "source": [
    "#import graphs"
   ]
  },
  {
   "cell_type": "code",
   "execution_count": 8,
   "metadata": {},
   "outputs": [],
   "source": [
    "# graphs.setup_rc_params(presentation=True)\n",
    "#graphs.setup_rc_params(publish=True)"
   ]
  },
  {
   "cell_type": "code",
   "execution_count": 9,
   "metadata": {},
   "outputs": [],
   "source": [
    "#DRAFT = False\n",
    "#FIGDIR = '/home/kkumer/papers/nloimpact/figs'\n",
    "FIGDIR = '/home/quantum/Documents/gepard_gpd/figures_paper_published'"
   ]
  },
  {
   "cell_type": "code",
   "execution_count": 10,
   "metadata": {},
   "outputs": [],
   "source": [
    "# belle2 default colormap  (color-blind safe)\n",
    "bel_cmap = {'bel_blue': '#348ABD', 'bel_red': '#E24A33', 'bel_purple': '#988ED5',\n",
    "            'bel_gray': '#777777', 'bel_yellow': '#FBC15E', 'bel_green': '#8EBA42',\n",
    "            'bel_pink': '#FFB5B8'}"
   ]
  },
  {
   "cell_type": "markdown",
   "metadata": {},
   "source": [
    "# Dataset"
   ]
  },
  {
   "cell_type": "markdown",
   "metadata": {},
   "source": [
    "## $R = \\sigma_L/\\sigma_T$ function"
   ]
  },
  {
   "cell_type": "markdown",
   "metadata": {},
   "source": [
    "We use $R$ ratio function, as developed and defined in `LT_separation.ipynb` and apply it to total $\\sigma$ data, to get $\\sigma_L$"
   ]
  },
  {
   "cell_type": "code",
   "execution_count": 11,
   "metadata": {},
   "outputs": [],
   "source": [
    "def modelW_rho(W_Q2, pars):\n",
    "    W, Q2 = W_Q2\n",
    "    a, p, b = pars\n",
    "    x = Q2/0.776**2\n",
    "    y = Q2/W\n",
    "    return x/(1+a*x)**p * (1-b*y)\n",
    "\n",
    "def modelW_phi(W_Q2, pars):\n",
    "    W, Q2 = W_Q2\n",
    "    a, p = pars\n",
    "    x = Q2/1.02**2\n",
    "    return x/(1+a*x)**p"
   ]
  },
  {
   "cell_type": "code",
   "execution_count": 12,
   "metadata": {},
   "outputs": [],
   "source": [
    "def RfunW(W, Q2, meson, collaboration='HERA'):\n",
    "    '''Full Q^2 and W dependent R function.'''\n",
    "    if meson == 'rho0':\n",
    "        if collaboration == 'H1':\n",
    "            # result of fit only to H1 measurements of R\n",
    "            pars = np.array([3.4448593857655423, 1.0315014846337964, -82.29513762415807])\n",
    "            cov = np.array([[856.4712332392247, -0.9533742942064789, -21835.31906014519],\n",
    "                            [-0.9533742942064789, 0.33578280444411535, -105.20123774072994],\n",
    "                            [-21835.31906014519, -105.20123774072994, 606922.8387879718]])\n",
    "        elif collaboration == 'ZEUS':\n",
    "            # result of fit only to ZEUS measurements of R\n",
    "            pars = np.array([2.116938695130227, 0.43660161212399284, 0.3403615255395319])\n",
    "            cov = np.array([[17.157623711807915, -1.055154593720807, 3.06553393461163],\n",
    "                            [-1.055154593720807, 0.06616338741413422, -0.21515323325912508],\n",
    "                            [3.06553393461163, -0.21515323325912508, 1.1921747441948811]])\n",
    "        else:  # HERA\n",
    "            # Result of fit to combined H1 and ZEUS measurements of R\n",
    "            pars = np.array([6.251397432195975, 0.3211706244931314, 0.9022081518021978])\n",
    "            cov = np.array([[372.9802979798167, -4.341668334106043, 9.752091026822168],\n",
    "                            [-4.341668334106043, 0.051452436510795736, -0.13166750799083524],\n",
    "                            [9.752091026822168, -0.13166750799083524, 0.7102237117713996]])\n",
    "        y, ycov = propagate(lambda p: modelW_rho((W, Q2), p), pars, cov)\n",
    "    elif meson == 'phi':\n",
    "        # Result of fit to combined H1 and ZEUS R (not so reliable, not used anyways)\n",
    "        pars = np.array([5.794868768486252, 0.26720102753302516])\n",
    "        cov = np.array([[774.2660285968365, -9.163763185567973],\n",
    "                        [-9.163763185567973, 0.10930118470470186]])\n",
    "        y, ycov = propagate(lambda p: modelW_phi((W, Q2), p), pars, cov)\n",
    "        \n",
    "    else:\n",
    "        raise ValueError('Not implemented for {}'.format(meson))\n",
    "    try:\n",
    "        yerr_prop = np.diag(ycov) ** 0.5\n",
    "    except ValueError:  # not an array\n",
    "        yerr_prop = ycov ** 0.5\n",
    "    return y, yerr_prop"
   ]
  },
  {
   "cell_type": "code",
   "execution_count": 13,
   "metadata": {},
   "outputs": [],
   "source": [
    "def sigtot2sigL(dtset, collaboration='HERA'):\n",
    "    '''Transform total xs dataset to longitudinal xs dataset.'''\n",
    "    out = []\n",
    "    for pt in g.select(dtset, criteria=['Q2 >= 4.0']):\n",
    "        ptxl = pt.copy()\n",
    "        y = (pt.W**2 + pt.Q2 - g.constants.Mp2)/(pt.s - g.constants.Mp2)\n",
    "        eps = (1-y)/(1-y+y**2/2)\n",
    "        R, delR = RfunW(ptxl.W, pt.Q2, ptxl.out1particle, collaboration)\n",
    "        ptxl.val = pt.val/(eps + 1./R)\n",
    "        errsig = pt.err / (eps+1./R)\n",
    "        errR = pt.val * delR / (1.+eps*R)**2\n",
    "        ptxl.err = np.sqrt( errsig**2 + errR**2)\n",
    "        ptxl.in1polarization = '1'\n",
    "        ptxl.in1polarizationvector = 'L'\n",
    "        ptxl.y1namelong = 'differential cross section XL'\n",
    "        out.append(ptxl)\n",
    "    return g.DataSet(out)"
   ]
  },
  {
   "cell_type": "markdown",
   "metadata": {},
   "source": [
    "# H1 DVMP Data"
   ]
  },
  {
   "cell_type": "code",
   "execution_count": 14,
   "metadata": {},
   "outputs": [],
   "source": [
    "# Q^2 dependent data for fixed W\n",
    "H1_rho_Q2 = sigtot2sigL(g.dset[606], collaboration='H1')\n",
    "H1_phi_Q2 = sigtot2sigL(g.dset[77])"
   ]
  },
  {
   "cell_type": "code",
   "execution_count": 15,
   "metadata": {},
   "outputs": [],
   "source": [
    "# W-dependent data for several Q^2 values\n",
    "H1_rho_W = sigtot2sigL(g.dset[79], collaboration='H1')\n",
    "H1_phi_W = sigtot2sigL(g.dset[80])"
   ]
  },
  {
   "cell_type": "code",
   "execution_count": 16,
   "metadata": {},
   "outputs": [],
   "source": [
    "# t-dependent data (problematic to use!)\n",
    "H1_rho_t = sigtot2sigL(g.dset[75], collaboration='H1')"
   ]
  },
  {
   "cell_type": "markdown",
   "metadata": {},
   "source": [
    "# ZEUS DVMP Data "
   ]
  },
  {
   "cell_type": "code",
   "execution_count": 17,
   "metadata": {},
   "outputs": [],
   "source": [
    "# Q^2 dependent data for fixed W\n",
    "ZEUS_rho_Q2 = sigtot2sigL(g.dset[607], collaboration='ZEUS')\n",
    "ZEUS_phi_Q2 = sigtot2sigL(g.dset[612])"
   ]
  },
  {
   "cell_type": "code",
   "execution_count": 18,
   "metadata": {},
   "outputs": [],
   "source": [
    "# W-dependent data for several Q^2 values\n",
    "ZEUS_rho_W = sigtot2sigL(g.dset[608], collaboration='ZEUS')\n",
    "# ZEUS_phi_W = sigtot2sigL(g.dset[613])"
   ]
  },
  {
   "cell_type": "markdown",
   "metadata": {},
   "source": [
    "We fit only to DVMP data with $Q^2$ > 10 GeV$^2$ where we expect pQCD to work reasonably for this process."
   ]
  },
  {
   "cell_type": "code",
   "execution_count": 19,
   "metadata": {},
   "outputs": [
    {
     "name": "stdout",
     "output_type": "stream",
     "text": [
      "Number of DVMP points = 45\n"
     ]
    }
   ],
   "source": [
    "DVMP_Q2_points = g.select(H1_rho_Q2 +\n",
    "                          ZEUS_rho_Q2, ['Q2 >= 10.0'])\n",
    "DVMP_W_points = g.select(H1_rho_W +\n",
    "                          ZEUS_rho_W, ['Q2 >= 10.0'])\n",
    "DVMP_t_points = g.select(H1_rho_t, ['Q2 >= 10.0'])\n",
    "DVMPpoints = DVMP_Q2_points + DVMP_W_points\n",
    "print(\"Number of DVMP points = {}\".format(len(DVMPpoints)))"
   ]
  },
  {
   "cell_type": "markdown",
   "metadata": {},
   "source": [
    "# Theory "
   ]
  },
  {
   "cell_type": "code",
   "execution_count": 20,
   "metadata": {},
   "outputs": [],
   "source": [
    "class MyTheory(g.PWNormGPD, g.MellinBarnesCFF, g.MellinBarnesTFF, g.DVMP):\n",
    "    pass"
   ]
  },
  {
   "cell_type": "code",
   "execution_count": 21,
   "metadata": {},
   "outputs": [],
   "source": [
    "th1 = MyTheory(p=0)\n",
    "th1.__name__ = 'th1'\n",
    "th1.name = 'LO DVCS+DVMP'\n",
    "#th1.parameters.update(pars_init)\n",
    "th1.parameters.update({'a2':0.132, 'ns': 0.15203977400125948, 'al0s': 1.1575112053844445, 'al0g': 1.2473462505438417, 'alps': 0.46088402725599625, 'ms2': 1.8846575048660557, 'secs': 0.19141756012117567, 'this': -0.09985644463925375, 'alpg': 0.9994253236092058, 'mg2': 0.12655660165151106, 'secg': 0.9348434846666352, 'thig': -0.8070230139684945})\n",
    "#th1.parameters.update({'a2': 0.123, 'ns': 0.15203977400126656, 'al0s': 1.1575112053849788, 'al0g': 1.2473462505404416, 'alps': 0.5312673554988383, 'ms2': 2.740237296159404, 'secs': 0.04939583198250308, 'this': -0.05411781123920072, 'alpg': 0.9999999988492917, 'mg2': 0.11935246209863909, 'secg': 1.342447132772215, 'thig': -0.9997960402412689})\n",
    "#th1.fitpoints = DVCSpoints+DVMPpoints\n",
    "th1.props = {'lw': 1.5, 'color': bel_cmap['bel_red'], 'ls': '-'}"
   ]
  },
  {
   "cell_type": "code",
   "execution_count": 22,
   "metadata": {},
   "outputs": [],
   "source": [
    "th0 = MyTheory(p=0)\n",
    "th0.__name__ = 'th0'\n",
    "th0.name = 'LO DVMP'\n",
    "th0.parameters.update({'a2':0.132, 'ns': 0.15203977400125948, 'al0s': 1.1575112053844445, 'al0g': 1.2473462505438417, 'alps': 0.12307549922319476, 'ms2': 0.9099618573067466, 'secs': 0.29987036520060867, 'this': 0.09993798993395209, 'alpg': 0.803523260238303, 'mg2': 0.14348108904312137, 'secg': -0.4916482158284232, 'thig': -0.4345237152334432})\n",
    "th0.fitpoints = DVMPpoints\n",
    "th0.props = {'lw': 1.5, 'color': bel_cmap['bel_green'], 'ls': '-.'}"
   ]
  },
  {
   "cell_type": "code",
   "execution_count": 23,
   "metadata": {},
   "outputs": [],
   "source": [
    "th1_asy_DA = MyTheory(p=0)\n",
    "th1_asy_DA.__name__ = 'th1_asy_DA'\n",
    "th1_asy_DA.name = 'LO DVCS+DVMP (Asymptotic DA)'\n",
    "#th1.parameters.update(pars_init)\n",
    "th1_asy_DA.parameters.update({'a2':0.0, 'ns': 0.15203977400125948, 'al0s': 1.1575112053844445, 'al0g': 1.2473462505438417, 'alps': 0.46088402725599625, 'ms2': 1.8846575048660557, 'secs': 0.19141756012117567, 'this': -0.09985644463925375, 'alpg': 0.9994253236092058, 'mg2': 0.12655660165151106, 'secg': 0.9348434846666352, 'thig': -0.8070230139684945})\n",
    "#th1.parameters.update({'a2': 0.123, 'ns': 0.15203977400126656, 'al0s': 1.1575112053849788, 'al0g': 1.2473462505404416, 'alps': 0.5312673554988383, 'ms2': 2.740237296159404, 'secs': 0.04939583198250308, 'this': -0.05411781123920072, 'alpg': 0.9999999988492917, 'mg2': 0.11935246209863909, 'secg': 1.342447132772215, 'thig': -0.9997960402412689})\n",
    "#th1.fitpoints = DVCSpoints+DVMPpoints\n",
    "th1_asy_DA.props = {'lw': 1, 'color': bel_cmap['bel_gray'], 'ls': '-'}"
   ]
  },
  {
   "cell_type": "code",
   "execution_count": 24,
   "metadata": {},
   "outputs": [],
   "source": [
    "th0_asy_DA = MyTheory(p=0)\n",
    "th0_asy_DA.__name__ = 'th0_asy_DA'\n",
    "th0_asy_DA.name = 'LO DVMP (Asymptotic DA)'\n",
    "th0_asy_DA.parameters.update({'a2':0.0, 'ns': 0.15203977400125948, 'al0s': 1.1575112053844445, 'al0g': 1.2473462505438417, 'alps': 0.12307549922319476, 'ms2': 0.9099618573067466, 'secs': 0.29987036520060867, 'this': 0.09993798993395209, 'alpg': 0.803523260238303, 'mg2': 0.14348108904312137, 'secg': -0.4916482158284232, 'thig': -0.4345237152334432})\n",
    "th0_asy_DA.fitpoints = DVMPpoints\n",
    "th0_asy_DA.props = {'lw': 1, 'color': bel_cmap['bel_blue'], 'ls': '-.'}"
   ]
  },
  {
   "cell_type": "markdown",
   "metadata": {},
   "source": [
    "# Ploting: Theory and Data "
   ]
  },
  {
   "cell_type": "code",
   "execution_count": 25,
   "metadata": {},
   "outputs": [],
   "source": [
    "def line_label(dtset, extended=False):\n",
    "    \"\"\"Return location and label for dataset plotting.\"\"\"\n",
    "    pt = dtset[-1]  # last point\n",
    "    y = pt.val\n",
    "    d = pt.W - dtset[-2].W  # distance between last two points\n",
    "    x = pt.W + d/5\n",
    "    if extended:\n",
    "        return x, y, r'$\\mathcal{{Q}}^2 = {}\\:\\mathrm{{GeV}}^2$'.format(pt.Q2)\n",
    "    else:\n",
    "        return x, y, r'${}\\:\\mathrm{{GeV}}^2$'.format(pt.Q2)\n",
    "    # return x, y, '{}'.format(pt.Q2)"
   ]
  },
  {
   "cell_type": "markdown",
   "metadata": {},
   "source": [
    "## $Q^2$ scaling - fixed W"
   ]
  },
  {
   "cell_type": "code",
   "execution_count": 26,
   "metadata": {},
   "outputs": [],
   "source": [
    "#Q2points = g.select(H1_rho_Q2, ['Q2 >= 10.0'])"
   ]
  },
  {
   "cell_type": "code",
   "execution_count": 27,
   "metadata": {},
   "outputs": [],
   "source": [
    "#logQ2 = np.log10(Q2points.df().Q2.values)\n",
    "#logSigL = np.log10(Q2points.df().val.values)"
   ]
  },
  {
   "cell_type": "code",
   "execution_count": 28,
   "metadata": {},
   "outputs": [],
   "source": [
    "#logerr = Q2points.df().err.values / Q2points.df().val.values / np.log(10)"
   ]
  },
  {
   "cell_type": "code",
   "execution_count": 29,
   "metadata": {},
   "outputs": [],
   "source": [
    "#logpred1 = np.array([np.log10(thm1.predict(pt)) for pt in Q2points])\n",
    "#logpred0 = np.array([np.log10(th0.predict(pt)) for pt in Q2points])"
   ]
  },
  {
   "cell_type": "code",
   "execution_count": 30,
   "metadata": {},
   "outputs": [],
   "source": [
    "def DVMP_scaling(ths, draft=False):                                                                       \n",
    "    fig, ax1 = plt.subplots(1, 1, figsize=[7.5, 5])                                                                     \n",
    "    #fac = (np.sqrt(2)*g.constants.F_phi/g.constants.F_rho0/3)**2                                                      \n",
    "    rho_vals = H1_rho_Q2.df().Q2.values**(2.5)*H1_rho_Q2.df().val.values                                              \n",
    "    rho_errs = H1_rho_Q2.df().Q2.values**(2.5)*H1_rho_Q2.df().err.values                                              \n",
    "    ax1.errorbar(H1_rho_Q2.df().Q2.values, rho_vals, yerr=rho_errs,                                                   \n",
    "                marker='o', color='black', linestyle='None', label=r'$\\rho^0$')                                                      \n",
    "    for TH in ths:                                                                                                    \n",
    "        dtset_rho = g.select(H1_rho_Q2, ['Q2 >= 10.'])                                                                \n",
    "        rho_preds = [TH.predict(pt) for pt in dtset_rho]                                                              \n",
    "        rho_preds = dtset_rho.df().Q2.values**(2.5)*np.array(rho_preds)                                               \n",
    "        ax1.plot(dtset_rho.df().Q2.values, rho_preds, label=TH.name, **TH.props)                                      \n",
    "    #dtset_phi = H1_phi_Q2                                                                                             \n",
    "    #phi_vals = dtset_phi.df().Q2.values**(2.5)*dtset_phi.df().val.values/fac                                          \n",
    "    #phi_errs = dtset_phi.df().Q2.values**(2.5)*dtset_phi.df().err.values/fac                                          \n",
    "    #ax1.errorbar(dtset_phi.df().Q2.values, phi_vals, yerr=phi_errs, marker='v', linestyle='None',\n",
    "    #             color=bel_cmap['bel_blue'],\n",
    "    #             label=r'$\\phi\\times (3 f_{\\rho^0}/\\sqrt{2} f_{\\phi})^2$')          ## $Q^2$ scaling - fixed W                           \n",
    "    ax1.set_yscale('log')                                                                                             \n",
    "    ax1.set_xlabel(r'$\\mathcal{Q}^{2}\\;[\\mathrm{GeV}^2]$')                                                            \n",
    "    #ax1.set_ylabel(r'$\\mathcal{Q}^5\\sigma(\\gamma_{\\rm L}^* \\textup{p} \\to \\textup{V} \\textup{p})\\;[\\mathrm{nb}]$')                                                                                        \n",
    "    ax1.set_ylabel(r'$\\mathcal{Q}^5\\sigma(\\gamma_{L}^* p \\rightarrow V p)\\;[\\mathrm{nb}]$')                                                                                        \n",
    "    ax1.set_ylim(1000, 20000)                                                                                         \n",
    "    ax1.legend(loc='lower right', handlelength=3.5)\n",
    "    ax1.set_title('$a_2=0.132, \\mu = 2~GeV$')                                                                   \n",
    "    return fig"
   ]
  },
  {
   "cell_type": "code",
   "execution_count": 31,
   "metadata": {},
   "outputs": [
    {
     "data": {
      "image/png": "[encoded data removed]",
      "text/plain": [
       "<Figure size 750x500 with 1 Axes>"
      ]
     },
     "metadata": {},
     "output_type": "display_data"
    }
   ],
   "source": [
    "fig = DVMP_scaling([th0, th0_asy_DA, th1, th1_asy_DA ])"
   ]
  },
  {
   "cell_type": "code",
   "execution_count": 32,
   "metadata": {},
   "outputs": [],
   "source": [
    "fig.savefig('{}/Q2_scaling_W_fix.pdf'.format(FIGDIR))"
   ]
  },
  {
   "cell_type": "code",
   "execution_count": null,
   "metadata": {},
   "outputs": [],
   "source": []
  }
 ],
 "metadata": {
  "kernelspec": {
   "display_name": "base",
   "language": "python",
   "name": "python3"
  },
  "language_info": {
   "codemirror_mode": {
    "name": "ipython",
    "version": 3
   },
   "file_extension": ".py",
   "mimetype": "text/x-python",
   "name": "python",
   "nbconvert_exporter": "python",
   "pygments_lexer": "ipython3",
   "version": "3.11.4"
  }
 },
 "nbformat": 4,
 "nbformat_minor": 2
}
