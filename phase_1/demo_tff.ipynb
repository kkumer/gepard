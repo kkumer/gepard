{
 "cells": [
  {
   "cell_type": "code",
   "execution_count": 151,
   "id": "7669b4ad-1c23-4da3-98f2-2c0955a1ff90",
   "metadata": {},
   "outputs": [
    {
     "name": "stdout",
     "output_type": "stream",
     "text": [
      "The autoreload extension is already loaded. To reload it, use:\n",
      "  %reload_ext autoreload\n"
     ]
    }
   ],
   "source": [
    "%load_ext autoreload\n",
    "%autoreload 2"
   ]
  },
  {
   "cell_type": "code",
   "execution_count": 152,
   "id": "a9d31c12-9a3b-4731-9804-4031f0caa5fe",
   "metadata": {},
   "outputs": [],
   "source": [
    "import copy, math\n",
    "import numpy as np\n",
    "import matplotlib\n",
    "import matplotlib.pyplot as plt"
   ]
  },
  {
   "cell_type": "code",
   "execution_count": 153,
   "id": "c4857354-73a0-4531-be31-b3b3fbd4146b",
   "metadata": {},
   "outputs": [
    {
     "name": "stdout",
     "output_type": "stream",
     "text": [
      "0.9.10\n"
     ]
    }
   ],
   "source": [
    "import gepard as g\n",
    "print(g.__version__)"
   ]
  },
  {
   "cell_type": "code",
   "execution_count": 154,
   "id": "a97fd80d",
   "metadata": {},
   "outputs": [
    {
     "name": "stdout",
     "output_type": "stream",
     "text": [
      "/home/quantum/gepard/src/gepard/__init__.py\n"
     ]
    }
   ],
   "source": [
    "print(g.__file__)"
   ]
  },
  {
   "cell_type": "code",
   "execution_count": 155,
   "id": "a4c0ce2d-2c83-4301-b806-fa386e053f7b",
   "metadata": {},
   "outputs": [],
   "source": [
    "pt = g.dset[75][0]"
   ]
  },
  {
   "cell_type": "code",
   "execution_count": 156,
   "metadata": {},
   "outputs": [
    {
     "name": "stdout",
     "output_type": "stream",
     "text": [
      "npt x obs     collab  FTn    id  ref.        \n",
      "----------------------------------------------\n",
      "35 x XGAMMA  H1      N/A    75  arXiv:0910.5831\n",
      "----------------------------------------------\n",
      "TOTAL = 35\n"
     ]
    }
   ],
   "source": [
    "g.describe_data(g.dset[75])"
   ]
  },
  {
   "cell_type": "code",
   "execution_count": 157,
   "id": "f8e47c6c-7d21-4bda-bbf1-4e2e8c1a7f93",
   "metadata": {},
   "outputs": [
    {
     "data": {
      "text/plain": [
       "('XGAMMA', 2156.0)"
      ]
     },
     "execution_count": 157,
     "metadata": {},
     "output_type": "execute_result"
    }
   ],
   "source": [
    "pt.observable, pt.val"
   ]
  },
  {
   "cell_type": "code",
   "execution_count": 158,
   "id": "68ff2ba2",
   "metadata": {},
   "outputs": [
    {
     "data": {
      "text/plain": [
       "3.3"
      ]
     },
     "execution_count": 158,
     "metadata": {},
     "output_type": "execute_result"
    }
   ],
   "source": [
    "pt.Q2"
   ]
  },
  {
   "cell_type": "code",
   "execution_count": 159,
   "id": "6ecb50b7-378f-44f8-8b30-56c66c96481d",
   "metadata": {},
   "outputs": [],
   "source": [
    "class MyTheory(g.PWNormGPD, g.MellinBarnesCFF, g.MellinBarnesTFF, g.DVMP):\n",
    "    pass"
   ]
  },
  {
   "cell_type": "code",
   "execution_count": 160,
   "id": "96ff1d6f-3f34-4c91-88c0-69efffaf1a43",
   "metadata": {},
   "outputs": [],
   "source": [
    "th0 = MyTheory(p=0)"
   ]
  },
  {
   "cell_type": "code",
   "execution_count": 161,
   "id": "eab20331-946c-4a8c-81c4-0a2a1164a9b4",
   "metadata": {},
   "outputs": [],
   "source": [
    "th0.parameters.update({'a2': 0.123, 'ns': 0.15203977400126656, 'al0s': 1.1575112053849788, 'al0g': 1.2473462505404416, 'alps': 0.5312673554988383, 'ms2': 2.740237296159404, 'secs': 0.04939583198250308, 'this': -0.05411781123920072, 'alpg': 0.9999999988492917, 'mg2': 0.11935246209863909, 'secg': 1.342447132772215, 'thig': -0.9997960402412689})"
   ]
  },
  {
   "cell_type": "code",
   "execution_count": 162,
   "id": "bfc4df20",
   "metadata": {},
   "outputs": [
    {
     "data": {
      "text/plain": [
       "0.123"
      ]
     },
     "execution_count": 162,
     "metadata": {},
     "output_type": "execute_result"
    }
   ],
   "source": [
    "th0.parameters['a2']"
   ]
  },
  {
   "cell_type": "code",
   "execution_count": 163,
   "id": "c8e623bf-4995-473f-bf66-21f7ac88f923",
   "metadata": {},
   "outputs": [
    {
     "data": {
      "text/plain": [
       "41869.57050702964"
      ]
     },
     "execution_count": 163,
     "metadata": {},
     "output_type": "execute_result"
    }
   ],
   "source": [
    "th0.XGAMMA(pt)"
   ]
  },
  {
   "cell_type": "code",
   "execution_count": 164,
   "id": "da406549-b12b-4ecf-ad5f-13222e135ec4",
   "metadata": {},
   "outputs": [
    {
     "data": {
      "text/plain": [
       "array([-1277.35815592, -3191.92735482,     0.        ,     0.        ,\n",
       "           0.        ,     0.        ,     0.        ,     0.        ])"
      ]
     },
     "execution_count": 164,
     "metadata": {},
     "output_type": "execute_result"
    }
   ],
   "source": [
    "th0.tff(xi=pt.xi, t=pt.t, Q2=pt.Q2, meson='rho0')"
   ]
  },
  {
   "cell_type": "code",
   "execution_count": 165,
   "id": "4fc5c8fd-29a0-4acb-8872-87d3a80e36cf",
   "metadata": {},
   "outputs": [
    {
     "data": {
      "text/plain": [
       "-3191.9273548168135"
      ]
     },
     "execution_count": 165,
     "metadata": {},
     "output_type": "execute_result"
    }
   ],
   "source": [
    "th0.ImH_V(pt)"
   ]
  },
  {
   "cell_type": "code",
   "execution_count": 166,
   "id": "c2d5c9e6",
   "metadata": {},
   "outputs": [],
   "source": [
    "#gamma0 = g.adim.non_singlet_LO(2,th0.nf)\n",
    "#beta0 = g.qcd.beta(th0.p,th0.nf)\n",
    "\n",
    "#abc = g.wilson.calc_wce(th0, pt.Q2, 'DVMP', 2)\n",
    "#print(gamma0,beta0,abc)\n"
   ]
  },
  {
   "cell_type": "markdown",
   "id": "87fc6462-97c0-4115-949d-5d8b18ef022d",
   "metadata": {},
   "source": [
    "We reproduce this number step by step, as done internally by Gepard."
   ]
  },
  {
   "cell_type": "code",
   "execution_count": 167,
   "id": "cb743e0f-54eb-4fec-abe0-d161a103eeea",
   "metadata": {},
   "outputs": [],
   "source": [
    "wce_ar_dvmp = g.wilson.calc_wce(th0, pt.Q2, 'DVMP', 0)"
   ]
  },
  {
   "cell_type": "code",
   "execution_count": 168,
   "metadata": {},
   "outputs": [],
   "source": [
    "wce_ar_dvmp2 = g.wilson.calc_wce(th0, pt.Q2, 'DVMP', 2)"
   ]
  },
  {
   "cell_type": "code",
   "execution_count": 169,
   "id": "57f1d115-bd67-4e97-8be8-f72254a28dcd",
   "metadata": {},
   "outputs": [
    {
     "data": {
      "text/plain": [
       "array([1.19661056+0.00022386j, 2.11518273+0.0003092j ,\n",
       "       5.38462485+0.00055892j])"
      ]
     },
     "execution_count": 169,
     "metadata": {},
     "output_type": "execute_result"
    }
   ],
   "source": [
    "wce_ar_dvmp[0, 0, :]"
   ]
  },
  {
   "cell_type": "code",
   "execution_count": 170,
   "metadata": {},
   "outputs": [
    {
     "data": {
      "text/plain": [
       "array([1.09324942+0.00020453j, 1.93247693+0.00028249j,\n",
       "       4.91951032+0.00051064j])"
      ]
     },
     "execution_count": 170,
     "metadata": {},
     "output_type": "execute_result"
    }
   ],
   "source": [
    "wce_ar_dvmp2[0, 0, :]"
   ]
  },
  {
   "cell_type": "code",
   "execution_count": 171,
   "id": "39783929-d8f0-4035-b7cb-e413b2e7c85a",
   "metadata": {},
   "outputs": [],
   "source": [
    "h_prerot = th0.H(pt.xi, pt.t)"
   ]
  },
  {
   "cell_type": "code",
   "execution_count": 172,
   "id": "e3145432-fdb5-4569-b03b-8f2ddcbabc36",
   "metadata": {},
   "outputs": [
    {
     "data": {
      "text/plain": [
       "(96, 4)"
      ]
     },
     "execution_count": 172,
     "metadata": {},
     "output_type": "execute_result"
    }
   ],
   "source": [
    "h_prerot.shape    #  MBpoints  x  flavor basis (sea quarks, G, u_val, d_val)"
   ]
  },
  {
   "cell_type": "code",
   "execution_count": 173,
   "id": "2e40b9a7-0239-4239-8755-e7f30c607e0b",
   "metadata": {},
   "outputs": [
    {
     "data": {
      "text/plain": [
       "array([2.49083853-0.00362085j, 6.56688237-0.01322384j,\n",
       "       0.        +0.j        , 0.        +0.j        ])"
      ]
     },
     "execution_count": 173,
     "metadata": {},
     "output_type": "execute_result"
    }
   ],
   "source": [
    "h_prerot[0,:]"
   ]
  },
  {
   "cell_type": "code",
   "execution_count": 174,
   "id": "734b3f14-285d-49a9-97dd-c177316e351d",
   "metadata": {},
   "outputs": [],
   "source": [
    "h = np.einsum('fa,ja->jf', th0.frot_rho0_4, h_prerot)    # GPD in evolution basis"
   ]
  },
  {
   "cell_type": "code",
   "execution_count": 175,
   "id": "b19ee8b2-0ef9-48fe-ad53-b0e6fef4518f",
   "metadata": {},
   "outputs": [
    {
     "data": {
      "text/plain": [
       "(3, 96, 3)"
      ]
     },
     "execution_count": 175,
     "metadata": {},
     "output_type": "execute_result"
    }
   ],
   "source": [
    "wce_ar_dvmp.shape"
   ]
  },
  {
   "cell_type": "code",
   "execution_count": 176,
   "id": "c47a0e25-d513-4912-9d89-f3439953341f",
   "metadata": {},
   "outputs": [],
   "source": [
    "reh_aux0, imh_aux0 = th0._mellin_barnes_integral(pt.xi, wce_ar_dvmp, h)\n",
    "reh_aux2, imh_aux2 = th0._mellin_barnes_integral(pt.xi, wce_ar_dvmp2, h)\n",
    "reh_aux2 *=th0.parameters['a2']\n",
    "imh_aux2 *=th0.parameters['a2']\n",
    "reh_aux = reh_aux0 + reh_aux2\n",
    "imh_aux = imh_aux0 + imh_aux2"
   ]
  },
  {
   "cell_type": "code",
   "execution_count": 177,
   "id": "17bfb539-2e96-4e60-8f7f-0fcf8c1c45c1",
   "metadata": {},
   "outputs": [
    {
     "data": {
      "text/plain": [
       "(-70206.7025918574, -175436.0697162418)"
      ]
     },
     "execution_count": 177,
     "metadata": {},
     "output_type": "execute_result"
    }
   ],
   "source": [
    "reh_aux, imh_aux"
   ]
  },
  {
   "cell_type": "code",
   "execution_count": 178,
   "id": "891c24eb-2df0-4d3e-bee8-fc548257d887",
   "metadata": {},
   "outputs": [],
   "source": [
    "astrong = 2 * np.pi * g.qcd.as2pf(th0.p, th0.nf,  pt.Q2, th0.asp[th0.p], th0.r20)"
   ]
  },
  {
   "cell_type": "code",
   "execution_count": 179,
   "id": "a96ca0b2-7629-493b-a599-3847fe911518",
   "metadata": {},
   "outputs": [],
   "source": [
    "reh, imh = (g.constants.CF * g.constants.F_rho0 * astrong / g.constants.NC / np.sqrt(pt.Q2)\n",
    "           ) * np.array([reh_aux, imh_aux])"
   ]
  },
  {
   "cell_type": "code",
   "execution_count": 180,
   "id": "bf9bb03c-7c5b-4a5f-82fd-67bdd73781d6",
   "metadata": {},
   "outputs": [
    {
     "data": {
      "text/plain": [
       "-3191.9273548168135"
      ]
     },
     "execution_count": 180,
     "metadata": {},
     "output_type": "execute_result"
    }
   ],
   "source": [
    "imh"
   ]
  },
  {
   "cell_type": "code",
   "execution_count": null,
   "metadata": {},
   "outputs": [],
   "source": []
  }
 ],
 "metadata": {
  "kernelspec": {
   "display_name": "base",
   "language": "python",
   "name": "python3"
  },
  "language_info": {
   "codemirror_mode": {
    "name": "ipython",
    "version": 3
   },
   "file_extension": ".py",
   "mimetype": "text/x-python",
   "name": "python",
   "nbconvert_exporter": "python",
   "pygments_lexer": "ipython3",
   "version": "3.11.4"
  }
 },
 "nbformat": 4,
 "nbformat_minor": 5
}
